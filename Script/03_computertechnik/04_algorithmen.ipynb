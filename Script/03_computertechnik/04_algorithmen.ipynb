{
 "cells": [
  {
   "cell_type": "markdown",
   "metadata": {},
   "source": [
    "Absatz -- was ist ein Algortihmus"
   ]
  },
  {
   "cell_type": "markdown",
   "metadata": {},
   "source": [
    "Absatz -- wofür werden Algorithmen eingesetzt?"
   ]
  },
  {
   "cell_type": "markdown",
   "metadata": {},
   "source": [
    "## Beispiel -- Paarfindung"
   ]
  },
  {
   "cell_type": "markdown",
   "metadata": {},
   "source": [
    "**Situation:** Eine Gruppe von Damen und Herren wollen tanzen, jedoch mag nicht jeder mit jedem tanzen.\n",
    "\n",
    "**Problem:** Wie findet man die maximale Anzahl an Paaren? Ohne jede Mo ̈glichkeit durchzuspielen?\n",
    "\n",
    "**Anwendung:** z.B. Studienplatzvergabe, Partnervermittlung"
   ]
  },
  {
   "cell_type": "code",
   "execution_count": null,
   "metadata": {},
   "outputs": [],
   "source": []
  }
 ],
 "metadata": {
  "kernelspec": {
   "display_name": "Python 3",
   "language": "python",
   "name": "python3"
  },
  "language_info": {
   "codemirror_mode": {
    "name": "ipython",
    "version": 3
   },
   "file_extension": ".py",
   "mimetype": "text/x-python",
   "name": "python",
   "nbconvert_exporter": "python",
   "pygments_lexer": "ipython3",
   "version": "3.8.2"
  }
 },
 "nbformat": 4,
 "nbformat_minor": 4
}
