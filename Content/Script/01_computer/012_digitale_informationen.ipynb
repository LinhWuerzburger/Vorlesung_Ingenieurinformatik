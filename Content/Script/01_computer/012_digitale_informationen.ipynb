{
 "cells": [
  {
   "cell_type": "markdown",
   "metadata": {},
   "source": [
    "Absatz: Digitale Werte, Wertebereiche (Daten, Zeit)"
   ]
  },
  {
   "cell_type": "markdown",
   "metadata": {},
   "source": [
    "Im Gegensatz zu analogen Signalen können digitale Signale nur diskrete Werte annehmen. Das bedeutet, dass der Wertebereich in Intervalle aufgeteilt wird, welche durch eine ganze Zahl identifiziert werden können. Beispiel aus der digitalen Bildtechnik:"
   ]
  },
  {
   "cell_type": "markdown",
   "metadata": {},
   "source": [
    "## Beispiel Foto"
   ]
  },
  {
   "cell_type": "markdown",
   "metadata": {},
   "source": [
    "| ![Foto Analog-Digital](./bilder/tmp_vergleich_foto.png) |\n",
    "|:--:|\n",
    "| Bild: Vergleich analoges vs. digitales Bild, Bildquelle |"
   ]
  },
  {
   "cell_type": "markdown",
   "metadata": {},
   "source": [
    "Bekommt man obiges auch Interaktiv hin? So mit reinzoomen?"
   ]
  },
  {
   "cell_type": "markdown",
   "metadata": {},
   "source": [
    "## Umwandlung Analog zu Digital"
   ]
  },
  {
   "cell_type": "markdown",
   "metadata": {},
   "source": [
    "Um aus analogen Werten, z.B. aus experimentellen Aufbauten, digitale Werte, z.B. für die Auswertung, zu gewinnen werden Umwandler genutzt. Diese analog-digital Umwandler werden AD-Wandler genannt.\n",
    "Beispiel für die Umwandlung eines analogen Signals (graue Kurve) in ein digitales (rote Kurve). Die vertikal gestrichelten Linien geben das Abtastintervall an."
   ]
  },
  {
   "cell_type": "markdown",
   "metadata": {},
   "source": [
    "|![Analoges Signal](./bilder/tmp_signal_analog.png)|\n",
    "|:--:|\n",
    "| Bild anpassen, Wertebereich ist auch digital|"
   ]
  },
  {
   "cell_type": "markdown",
   "metadata": {},
   "source": [
    "## Übertragung digitaler Signale"
   ]
  },
  {
   "cell_type": "markdown",
   "metadata": {},
   "source": [
    "* Um mit digitalen / diskreten Werten und Signalen zu operieren, werden diese als Reihen von zwei Zuständen (0 und 1, oder wahr und falsch) dargestellt.\n",
    "* In der Elektrotechnik wird der Zustand (1) durch eine angelegte Spannung (z.B. 5V) dargestellt. Der Zustand (0) etspricht einer spannungsfreien Leitung.\n",
    "* Digitale Signale sind immer getaktet, dadurch wird der Zeitraum der Validität vorgegeben."
   ]
  },
  {
   "cell_type": "markdown",
   "metadata": {},
   "source": [
    "|![Analoges Signal](./bilder/tmp_i2c.png)|\n",
    "|:--:|\n",
    "| Bild anpassen?|"
   ]
  },
  {
   "cell_type": "code",
   "execution_count": null,
   "metadata": {},
   "outputs": [],
   "source": []
  }
 ],
 "metadata": {
  "kernelspec": {
   "display_name": "Python 3",
   "language": "python",
   "name": "python3"
  },
  "language_info": {
   "codemirror_mode": {
    "name": "ipython",
    "version": 3
   },
   "file_extension": ".py",
   "mimetype": "text/x-python",
   "name": "python",
   "nbconvert_exporter": "python",
   "pygments_lexer": "ipython3",
   "version": "3.8.2"
  }
 },
 "nbformat": 4,
 "nbformat_minor": 4
}
