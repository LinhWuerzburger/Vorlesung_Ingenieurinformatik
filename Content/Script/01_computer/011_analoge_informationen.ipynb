{
 "cells": [
  {
   "cell_type": "markdown",
   "metadata": {},
   "source": [
    "# Analoge Informationen"
   ]
  },
  {
   "cell_type": "markdown",
   "metadata": {},
   "source": [
    "In der Natur sind – auf maktroskopischer Skala – alle Informationen kontinuierlich. Das bedeutet, dass alle Werte, z.B. bei einer Messung, aus einem gegebenen Wertebereich angenommen werden können. Das sagt allerdings erstmal nichts über die Präzision und Genauigkeit aus."
   ]
  },
  {
   "cell_type": "markdown",
   "metadata": {},
   "source": [
    "## Beispiele für analoge Messungen"
   ]
  },
  {
   "cell_type": "markdown",
   "metadata": {},
   "source": [
    "Folgende zwei Beispiele, Temperatur- und Gewichtsmessung, verdeutlichen die kontinuierliche Werteskala."
   ]
  },
  {
   "cell_type": "markdown",
   "metadata": {},
   "source": [
    "### Beispiel Temperaturmessung mit einem Thermometer\n",
    "\n",
    "Die Temperatur, z.B. der Luft, kann mit einem Thermometer gemessen werden. Bei einem [Flüssigkeitsthermometer](https://de.wikipedia.org/wiki/Fl%C3%BCssigkeitsthermometer) beruht das Messprinzip auf der Ausdehnung einer Flüssigkeit mit zunehmender Temperatur. Die Änderung des Volumens führt zu einer Änderung des Füllstands, welcher wiederum abgelesen und anhand einer Skala die Temperatur angiebt. Die Volumenänderung kann grundsätzlich beliebig klein sein und stellt einen kontinierlichen Messwert dar. Natülich kann in der Praxis die Temperatur nur im Rahmen der durch die Skala   "
   ]
  },
  {
   "cell_type": "markdown",
   "metadata": {},
   "source": [
    "![TmpAnalog](./bilder/tmp_analog.png)"
   ]
  },
  {
   "cell_type": "markdown",
   "metadata": {},
   "source": [
    "Absatz: Analoge Werte, Beispiele"
   ]
  },
  {
   "cell_type": "markdown",
   "metadata": {},
   "source": [
    "Absztz: Analoge Infromationsübertragung"
   ]
  },
  {
   "cell_type": "markdown",
   "metadata": {},
   "source": [
    "Absatz: Daten analog Speichern"
   ]
  },
  {
   "cell_type": "markdown",
   "metadata": {},
   "source": [
    "## Beispiel Foto"
   ]
  },
  {
   "cell_type": "markdown",
   "metadata": {},
   "source": [
    "Beispiel: Photo"
   ]
  },
  {
   "cell_type": "markdown",
   "metadata": {},
   "source": [
    "![Analoges Photo](./bilder/tmp_photo_analog.png)"
   ]
  },
  {
   "cell_type": "markdown",
   "metadata": {},
   "source": [
    "## Beispiel analoges Signal"
   ]
  },
  {
   "cell_type": "markdown",
   "metadata": {},
   "source": [
    "Beispiel: Analoges Signal"
   ]
  },
  {
   "cell_type": "markdown",
   "metadata": {},
   "source": [
    "|![Analoges Signal](./bilder/tmp_signal_analog.png)|\n",
    "|:--:|\n",
    "| Bild bearbeiten: Nur analoges Signal / Funktion|"
   ]
  },
  {
   "cell_type": "code",
   "execution_count": null,
   "metadata": {},
   "outputs": [],
   "source": []
  }
 ],
 "metadata": {
  "kernelspec": {
   "display_name": "Python 3",
   "language": "python",
   "name": "python3"
  },
  "language_info": {
   "codemirror_mode": {
    "name": "ipython",
    "version": 3
   },
   "file_extension": ".py",
   "mimetype": "text/x-python",
   "name": "python",
   "nbconvert_exporter": "python",
   "pygments_lexer": "ipython3",
   "version": "3.8.2"
  }
 },
 "nbformat": 4,
 "nbformat_minor": 4
}
