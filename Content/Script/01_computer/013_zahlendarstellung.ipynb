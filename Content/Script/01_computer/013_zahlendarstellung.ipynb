{
 "cells": [
  {
   "cell_type": "markdown",
   "metadata": {},
   "source": [
    "Absatz: Grundidee der digitalen Zahlendarstellung"
   ]
  },
  {
   "cell_type": "markdown",
   "metadata": {},
   "source": [
    "## Binärsystem\n",
    "Da in der digitalen Elektronik nur mit zwei Zuständen gerechnet wird, bietet sich das Binärsystem zur Zahlendarstellung an.\n",
    "Beispiele für Zahlendarstellungen (zur Basis 2 und 16):\n",
    "\n",
    "* 5 = 1012 = 0x5(16)\n",
    "* 65 = 10000012 = 0x41(16)\n",
    "* 2635 = 1010010010112 = 0xA4B(16)\n",
    "\n",
    "Damit lassen sich Zahlen als eine Reihe / Abfolge von 0/1-Zuständen darstellen.\n",
    "\n",
    "Hinweis: Um Zahlen zur Basis 16 abzubilden werden Buchstaben eingesetzt um die Ziffern 10 (A) bis 15 (F) darzustellen."
   ]
  },
  {
   "cell_type": "markdown",
   "metadata": {},
   "source": [
    "## Binäre Maßeinheiten\n",
    "\n",
    "Da sich in der digitalen Welt alles um Potenzen von 2 dreht, haben sich (aus technischen Gru ̈nden) folgende Einheiten ergeben:\n",
    "\n",
    "* 1 Bit = eine Ziffer im Binärsystem, Wertebereich: 0 und 1 \n",
    "* 1 Byte = acht Ziffern, Wertebereich: 0 bis 255\n",
    "\n",
    "Daraus ergeben sich auch größere Bereiche \n",
    "* 1 KB = 1 kiloByte = 10^3^ Byte\n",
    "* 1 MB = 1 megaByte = 10^6^ Byte \n",
    "* 1 GB = 1 gigaByte = 10^9^ Byte \n",
    "* 1 TB = 1 teraByte = 10^12^ Byte \n",
    "* 1 PB = 1 petaByte = 10^15^ Byte"
   ]
  },
  {
   "cell_type": "markdown",
   "metadata": {},
   "source": [
    "## Geschwidigkeit der Datenübertragung\n",
    "\n",
    "Absatz: gängige Maße und Größenordnungen vorstellen"
   ]
  },
  {
   "cell_type": "markdown",
   "metadata": {},
   "source": [
    "## Darstellung ganzer Zahlen\n",
    "\n",
    "Ganze Zahlen werden z.B. in einer 64-bit Zahl in folgender Form dargestellt:"
   ]
  },
  {
   "cell_type": "markdown",
   "metadata": {},
   "source": [
    "| ![Integer-Zahlen](./bilder/tmp_integer.png) |\n",
    "|:--:|\n",
    "| Bild: TODO |"
   ]
  },
  {
   "cell_type": "markdown",
   "metadata": {},
   "source": [
    "Absatz: Wertebereiche\n",
    "    \n",
    "Dadurch ergibt sich ein Wertebereich von −2^63^ bis 2^63^"
   ]
  },
  {
   "cell_type": "markdown",
   "metadata": {},
   "source": [
    "Absatz: Wort Ingeter"
   ]
  },
  {
   "cell_type": "markdown",
   "metadata": {},
   "source": [
    "## Darstellung reeller Zahlen\n",
    "Die reellen Zahlen werden in die Teile: Vorzeichen (1 bit), Exponent (11 bit) und Mantisse (52 bit) zerlegt, z.B.:"
   ]
  },
  {
   "cell_type": "markdown",
   "metadata": {},
   "source": [
    "| ![Float-Zahlen](./bilder/tmp_float.png) |\n",
    "|:--:|\n",
    "| Bild: TODO |"
   ]
  },
  {
   "cell_type": "markdown",
   "metadata": {},
   "source": [
    "Damit kann eine reele Zahl z dargestellt werden als:\n",
    "\n",
    "$$ z = \\pm m \\cdot 2^e $$\n",
    "\n",
    "Damit ergibt sich eine Genauigkeit von 2<sup>-51</sup> \\approx 2•·10^-16^, also 16 Nachkommastellen."
   ]
  },
  {
   "cell_type": "code",
   "execution_count": null,
   "metadata": {},
   "outputs": [],
   "source": []
  }
 ],
 "metadata": {
  "kernelspec": {
   "display_name": "Python 3",
   "language": "python",
   "name": "python3"
  },
  "language_info": {
   "codemirror_mode": {
    "name": "ipython",
    "version": 3
   },
   "file_extension": ".py",
   "mimetype": "text/x-python",
   "name": "python",
   "nbconvert_exporter": "python",
   "pygments_lexer": "ipython3",
   "version": "3.8.2"
  }
 },
 "nbformat": 4,
 "nbformat_minor": 4
}
