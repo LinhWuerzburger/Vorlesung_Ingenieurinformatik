{
 "cells": [
  {
   "cell_type": "markdown",
   "metadata": {},
   "source": [
    "Wie in vorhergehenden Kapitel beschrieben, werden digitale Informationen als diskrete Werte dargestellt. Hierzu wird zwischen der Darstellung von ganzen Zahlen und reellen Zahlen unterschieden. Im Folgenden werden beide Darstellungsformen vorgestellt.   "
   ]
  },
  {
   "cell_type": "markdown",
   "metadata": {},
   "source": [
    "## Dualsystem\n",
    "Da in der digitalen Elektronik nur mit zwei Zuständen gerechnet wird, bietet sich das [Dualsystem](https://de.wikipedia.org/wiki/Dualsystem) zur Zahlendarstellung an.\n",
    "Beispiele für Zahlendarstellungen zur Basis 2, wobei der Index die Basis angibt:\n",
    "\n",
    "* 5<sub>10</sub> = 101<sub>2</sub>\n",
    "* 107<sub>10</sub> = 1101011<sub>2</sub>\n",
    "* 2635<sub>10</sub> = 101001001011<sub>2</sub>\n",
    "\n",
    "Damit lassen sich Zahlen als eine Reihe bzw. Abfolge von `0`/`1`-Zuständen darstellen."
   ]
  },
  {
   "cell_type": "markdown",
   "metadata": {},
   "source": [
    "## Hexadezimalsystem\n",
    "\n",
    "Bei Zahlen zur Basis 16 müssen auch Stellen, welche größer als 9 sind, abgebildet werden. Hierzu werden Buchstaben eingesetzt, um die Ziffern '10', dargestellt durch `A`, bis '15' (`F`) abzubilden. Eine oft verwendete Schreibweise für Zahlen im Hexadezimalsystem ist das Vorstellen von `0x` vor die Zahl, wie im folgenden Beispielen gezeigt:  \n",
    "\n",
    "* 5<sub>10</sub> = 5<sub>16</sub> = 0x5\n",
    "* 107<sub>10</sub> = 6B<sub>16</sub> = 0x6B\n",
    "* 2635<sub>10</sub> = A4B<sub>16</sub> = 0xA4B"
   ]
  },
  {
   "cell_type": "markdown",
   "metadata": {},
   "source": [
    "## Binäre Maßeinheiten\n",
    "\n",
    "Da sich in der digitalen Welt alles um Potenzen von 2 dreht, haben sich aus technischen Gründen folgende Einheiten ergeben:\n",
    "\n",
    "* 1 Bit = eine Ziffer im Binärsystem, Wertebereich: 0 und 1 \n",
    "* 1 Byte = acht Ziffern im Binärsystem, Wertebereich: 0 bis 255\n",
    "\n",
    "Um größere Datenmengen praktischer anzugeben, werden folgende Einheiten genutzt:\n",
    "* 1 KB = 1 kiloByte = 10<sup>3</sup> Byte\n",
    "* 1 MB = 1 megaByte = 10<sup>6</sup> Byte \n",
    "* 1 GB = 1 gigaByte = 10<sup>9</sup> Byte \n",
    "* 1 TB = 1 teraByte = 10<sup>12</sup> Byte \n",
    "* 1 PB = 1 petaByte = 10<sup>15</sup> Byte"
   ]
  },
  {
   "cell_type": "markdown",
   "metadata": {},
   "source": [
    "## Geschwidigkeit der Datenübertragung\n",
    "\n",
    "Die Geschwindigkeit mit der Daten übertragen werden können wird als Datenmenge pro Zeit angegeben. Hierbei wird die Zeit meist auf eine Sekunde bezogen. Beispielhaft sind hier einige Datenübertragungsraten beim Zugriff auf eine [magnetische Festplatte (HDD)](https://de.wikipedia.org/wiki/Festplattenlaufwerk) und auf ein [Halbleiterlaufwerk (SSD)](https://de.wikipedia.org/wiki/Solid-State-Drive) aufgeführt.\n",
    "\n",
    "* Lesen / Schreiben HDD: ~200 MB/s \n",
    "* Lesen / Schreiben SSD: ~500 MB/s\n",
    "\n",
    "Als weiteres Beispiel können maximale Übertragunsraten in verschiedenen Netzwerken genannt werden:\n",
    "\n",
    "* über das Mobilfunknetz, z.B. [3G](https://de.wikipedia.org/wiki/Mobilfunkstandard): 384 kbit/s\n",
    "* über ein Netzwerkkabel, z.B. [Fast Ethernet](https://de.wikipedia.org/wiki/Ethernet): ~100 Mbit/s"
   ]
  },
  {
   "cell_type": "markdown",
   "metadata": {},
   "source": [
    "## Darstellung ganzer Zahlen\n",
    "\n",
    "Die Grundidee bei der digitalen Darstellung von Zahlen, hier ganze Zahlen, ist die Verwendung einer festen Anzahl von Bits. Diese bilden dann eine entsprechende Anazahl von Stellen im Dualsystem ab. Dieser Idee folgend, kann eine ganze Zahl mit Vorzeichen wie folgt als 8-Bit-Zahl dargestellt werden:"
   ]
  },
  {
   "cell_type": "markdown",
   "metadata": {},
   "source": [
    "| ![Integer-Zahlen](./bilder/zahlendarstellung_integer08.png) |\n",
    "|:--:|\n",
    "| Bild: Bitzuordnung bei der Darstellung einer ganzen Zahl mit 8 Bit. |"
   ]
  },
  {
   "cell_type": "markdown",
   "metadata": {},
   "source": [
    "Für zwei Zahlen aus dem obigen Beispiel für die Zahldarstellung im Dualsystem könnte die Bitzuweisung wie folgt aussehen."
   ]
  },
  {
   "cell_type": "markdown",
   "metadata": {},
   "source": [
    "| ![Integer-Zahlen_5](./bilder/zahlendarstellung_integer08_5.png) |\n",
    "|:--:|\n",
    "| Bild: Beispiel der Bitzuordnung für die Zahl 5 mit 8 Bit. |\n",
    "\n",
    "| ![Integer-Zahlen_107](./bilder/zahlendarstellung_integer08_107.png) |\n",
    "|:--:|\n",
    "| Bild: Beispiel der Bitzuordnung für die Zahl 107 mit 8 Bit. |"
   ]
  },
  {
   "cell_type": "markdown",
   "metadata": {},
   "source": [
    "Durch die fixe Vorgabe der Stellen im Dualsystem, also hier der Bits, ergibt sich der Zahlenbereich, welcher mit diesen Bits abgebildet werden kann. Für die Darstellung von ganzen Zahlen mit 8 Bit, also mit einem Byte, ergibt sich somit\n",
    "\n",
    "* kleinste Zahl: 0<sub>2</sub> = 0\n",
    "* größte Zahl: 11111111<sub>2</sub> = 2<sup>8</sup>-1 = 255 ."
   ]
  },
  {
   "cell_type": "markdown",
   "metadata": {},
   "source": [
    "Natürlich können auch länger Bitfolgen für einen größeren Zahlenbereich genutzt werden. Zusätzlich kann eines der Bits auch genutzt werden, um das Vorzeichen darzustellen. Folgende Abbildung zeigt die Darstellung einer vorzeichenbehafteten ganzen Zahl mit 32 Bit."
   ]
  },
  {
   "cell_type": "markdown",
   "metadata": {},
   "source": [
    "| ![Integer-Zahlen](./bilder/zahlendarstellung_integer32.png) |\n",
    "|:--:|\n",
    "| Bild: Bitzuordnung bei der Darstellung einer ganzen Zahl samt Vorzeichen mit 32 Bit. |"
   ]
  },
  {
   "cell_type": "markdown",
   "metadata": {},
   "source": [
    "Der Wertebereich ist in diesem Fall gegeben durch:\n",
    "\n",
    "* kleinste Zahl = -2<sup>31</sup> = -2,147,483,648\n",
    "* größte Zahl =  2<sup>31</sup> - 1 = 2,147,483,647 ."
   ]
  },
  {
   "cell_type": "markdown",
   "metadata": {},
   "source": [
    "In der Informatik wird solch eine Darstellung von ganzen Zahlen als [Integer Datentyp](https://de.wikipedia.org/wiki/Integer_(Datentyp)) bezeichnet."
   ]
  },
  {
   "cell_type": "markdown",
   "metadata": {},
   "source": [
    "## Darstellung reeller Zahlen\n",
    "Die reellen Zahlen werden in die Teile: Vorzeichen (1 bit), Exponent (11 bit) und Mantisse (52 bit) zerlegt, z.B.:"
   ]
  },
  {
   "cell_type": "markdown",
   "metadata": {},
   "source": [
    "| ![Float-Zahlen](./bilder/zahlendarstellung_float.png) |\n",
    "|:--:|\n",
    "| Bild: Bitzuordnung bei der Darstellung einer reellen Zahl mit 64 bit.  |"
   ]
  },
  {
   "cell_type": "markdown",
   "metadata": {},
   "source": [
    "Damit kann eine reele Zahl z dargestellt werden als:\n",
    "\n",
    "$$ \\sf z = \\pm m \\cdot 2^e $$\n",
    "\n",
    "Für 64-bit Zahlen, ergibt sidh der kleinste Unterschied zwischen zwei reellen Zahlen zu 2<sup>-52</sup> ~ 2· 10<sup>-16</sup>. Damit können also bis zu 16 Nachkommastellen valide abgebildet werden."
   ]
  },
  {
   "cell_type": "markdown",
   "metadata": {},
   "source": [
    "## Zeichendarstellung\n",
    "\n",
    "Absatz zu Einsatz\n",
    "\n",
    "siehe Aufgabe X.Y"
   ]
  },
  {
   "cell_type": "markdown",
   "metadata": {},
   "source": [
    "## Thematisch passende Beispielaufgaben\n",
    "\n",
    "TODO: Liste"
   ]
  },
  {
   "cell_type": "code",
   "execution_count": null,
   "metadata": {},
   "outputs": [],
   "source": []
  }
 ],
 "metadata": {
  "kernelspec": {
   "display_name": "Python 3",
   "language": "python",
   "name": "python3"
  },
  "language_info": {
   "codemirror_mode": {
    "name": "ipython",
    "version": 3
   },
   "file_extension": ".py",
   "mimetype": "text/x-python",
   "name": "python",
   "nbconvert_exporter": "python",
   "pygments_lexer": "ipython3",
   "version": "3.8.2"
  }
 },
 "nbformat": 4,
 "nbformat_minor": 4
}
