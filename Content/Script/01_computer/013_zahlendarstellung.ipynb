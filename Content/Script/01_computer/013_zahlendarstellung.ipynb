{
 "cells": [
  {
   "cell_type": "markdown",
   "metadata": {},
   "source": [
    "Wie in vorhergehenden Kapitel beschrieben, werden digitale Informationen als diskrete Werte dargestellt. Hierzu wird zwischen der Darstellung von ganzen Zahlen und reellen Zahlen unterschieden. Im Folgenden werden beide Darstellungsformen vorgestellt.   "
   ]
  },
  {
   "cell_type": "markdown",
   "metadata": {},
   "source": [
    "## Dualsystem\n",
    "Da in der digitalen Elektronik nur mit zwei Zuständen gerechnet wird, bietet sich das [Dualsystem](https://de.wikipedia.org/wiki/Dualsystem) zur Zahlendarstellung an.\n",
    "Beispiele für Zahlendarstellungen zur Basis 2, wobei der Index die Basis angibt:\n",
    "\n",
    "* 5<sub>10</sub> = 101<sub>2</sub>\n",
    "* 65<sub>10</sub> = 1000001<sub>2</sub>\n",
    "* 2635<sub>10</sub> = 101001001011<sub>2</sub>\n",
    "\n",
    "Damit lassen sich Zahlen als eine Reihe bzw. Abfolge von `0`/`1`-Zuständen darstellen."
   ]
  },
  {
   "cell_type": "markdown",
   "metadata": {},
   "source": [
    "## Hexadezimalsystem\n",
    "\n",
    "Um Zahlen zur Basis 16 abzubilden werden Buchstaben eingesetzt um die Ziffern `10` (`A`) bis `15` (`F`) darzustellen.\n",
    "\n",
    "* 5 = 0x5(16)\n",
    "* 65 = 0x41(16)\n",
    "* 2635 = 0xA4B(16)"
   ]
  },
  {
   "cell_type": "markdown",
   "metadata": {},
   "source": [
    "## Binäre Maßeinheiten\n",
    "\n",
    "Da sich in der digitalen Welt alles um Potenzen von 2 dreht, haben sich aus technischen Gründen folgende Einheiten ergeben:\n",
    "\n",
    "* 1 Bit = eine Ziffer im Binärsystem, Wertebereich: 0 und 1 \n",
    "* 1 Byte = acht Ziffern im Binärsystem, Wertebereich: 0 bis 255\n",
    "\n",
    "Um größere Datenmengen praktischer anzugeben, werden folgende Einheiten genutzt:\n",
    "* 1 KB = 1 kiloByte = 10^3^ Byte\n",
    "* 1 MB = 1 megaByte = 10^6^ Byte \n",
    "* 1 GB = 1 gigaByte = 10^9^ Byte \n",
    "* 1 TB = 1 teraByte = 10^12^ Byte \n",
    "* 1 PB = 1 petaByte = 10^15^ Byte"
   ]
  },
  {
   "cell_type": "markdown",
   "metadata": {},
   "source": [
    "## Geschwidigkeit der Datenübertragung\n",
    "\n",
    "Absatz: gängige Maße und Größenordnungen vorstellen"
   ]
  },
  {
   "cell_type": "markdown",
   "metadata": {},
   "source": [
    "## Darstellung ganzer Zahlen\n",
    "\n",
    "Ganze Zahlen werden z.B. in einer 64-bit Zahl in folgender Form dargestellt:"
   ]
  },
  {
   "cell_type": "markdown",
   "metadata": {},
   "source": [
    "| ![Integer-Zahlen](./bilder/tmp_integer.png) |\n",
    "|:--:|\n",
    "| Bild: TODO |"
   ]
  },
  {
   "cell_type": "markdown",
   "metadata": {},
   "source": [
    "Absatz: Wertebereiche\n",
    "    \n",
    "Dadurch ergibt sich ein Wertebereich von −2^63^ bis 2^63^"
   ]
  },
  {
   "cell_type": "markdown",
   "metadata": {},
   "source": [
    "Absatz: Wort Ingeter"
   ]
  },
  {
   "cell_type": "markdown",
   "metadata": {},
   "source": [
    "## Darstellung reeller Zahlen\n",
    "Die reellen Zahlen werden in die Teile: Vorzeichen (1 bit), Exponent (11 bit) und Mantisse (52 bit) zerlegt, z.B.:"
   ]
  },
  {
   "cell_type": "markdown",
   "metadata": {},
   "source": [
    "| ![Float-Zahlen](./bilder/zahlendarstellung_float.png) |\n",
    "|:--:|\n",
    "| Bild: TODO |"
   ]
  },
  {
   "cell_type": "markdown",
   "metadata": {},
   "source": [
    "Damit kann eine reele Zahl z dargestellt werden als:\n",
    "\n",
    "$$ \\sf z = \\pm m \\cdot 2^e $$\n",
    "\n",
    "Für 64-bit Zahlen, ergibt sidh der kleinste Unterschied zwischen zwei reellen Zahlen zu 2<sup>-52</sup> ~ 2· 10<sup>-16</sup>. Damit können also 16 Nachkommastellen."
   ]
  },
  {
   "cell_type": "markdown",
   "metadata": {},
   "source": [
    "## Zeichendarstellung\n",
    "\n",
    "Absatz zu Einsatz\n",
    "\n",
    "siehe Aufgabe X.Y"
   ]
  },
  {
   "cell_type": "markdown",
   "metadata": {},
   "source": [
    "## Thematisch passende Beispielaufgaben\n",
    "\n",
    "TODO: Liste"
   ]
  },
  {
   "cell_type": "code",
   "execution_count": null,
   "metadata": {},
   "outputs": [],
   "source": []
  }
 ],
 "metadata": {
  "kernelspec": {
   "display_name": "Python 3",
   "language": "python",
   "name": "python3"
  },
  "language_info": {
   "codemirror_mode": {
    "name": "ipython",
    "version": 3
   },
   "file_extension": ".py",
   "mimetype": "text/x-python",
   "name": "python",
   "nbconvert_exporter": "python",
   "pygments_lexer": "ipython3",
   "version": "3.8.2"
  }
 },
 "nbformat": 4,
 "nbformat_minor": 4
}
