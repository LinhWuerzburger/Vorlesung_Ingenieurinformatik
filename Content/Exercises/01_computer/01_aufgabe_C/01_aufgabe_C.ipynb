{
 "cells": [
  {
   "cell_type": "markdown",
   "metadata": {
    "tags": [
     "remove_cell"
    ]
   },
   "source": [
    "<div style=\"width: 100%; overflow: hidden;\">\n",
    "    <div style=\"width: 500px; float: left;\"> \n",
    "        <h1>Ingenieurinformatik – Übung</h1>\n",
    "        Lehrstuhl <b>Computational Civil Engineering</b><br>\n",
    "        Kontakt: <a href = \"mailto: cce-inginf@uni-wuppertal.de\">Email senden</a> | Individuelle Kontakte siehe Webseite des Lehrstuhls<br>\n",
    "        Links: \n",
    "        <a href=\"cce.uni-wuppertal.de/inginf\">Vorlesungsskript</a> | \n",
    "        <a href=\"cce.uni-wuppertal.de\">Webseite des Lehrstuhls</a>\n",
    "    </div>\n",
    "    <div style=\"float:right;\"> \n",
    "        <img src=\"logo_cce_combined.png\" style=\"width:150px;\"/>\n",
    "    </div>\n",
    "</div>"
   ]
  },
  {
   "cell_type": "markdown",
   "metadata": {
    "tags": [
     "remove_cell"
    ]
   },
   "source": [
    "# Aufgabe 1 – Größter gemeinsamer Teiler (ggT)"
   ]
  },
  {
   "cell_type": "markdown",
   "metadata": {},
   "source": [
    "Der größte gemeinsamer Teiler (ggT) ist ein mathematischer Begriff und bezeichnet die gemeinsame größte natürliche Zahl, durch welche sich zwei Zahlen ohne Rest teilen lassen. So ist bspw. der ggT von $12$ und $18$, die Zahl $6$. Der ggT wird unter anderem in der Bruchrechnung verwendet, beim Kürzen eines Bruches. \n",
    "\n",
    "Die Bestimmung des ggT kann durch eine Primfaktorzerlegung oder durch den euklidischen Algorithmus erfolgen. Nachfolgend wird die Primfaktorzerlegung genutzt. Bei der Primfaktorzerlegung werden, wie der Name schon sagt die Zahl in ein Produkt aus Primzahlen zerlegt.\n",
    "\n",
    "Bsp.:\n",
    "\n",
    "$12 = 2^2 \\cdot 3^1$\n",
    "\n",
    "$18 = 2 \\cdot 3^2 $\n",
    "\n",
    "Mit Hilfe der Primfaktorzerlegung lässt sich nun einfach ablesen wie der ggT von $12$ und $18$ ist, indem man die Primfaktoren nimmt die in beiden Zerlegungen vorkommen und als Exponenten den kleineren von beiden. In diesem Fall wären das $2^1$ und $3^1$. Die Multiplikation beider ergibt den ggT von $12$ und $18$, hier $6$. Nachfolgend ist der Algorithmus aufgeführt wie die Implementierung des ggT als Programm aussehen könnte.\n",
    "\n",
    "### Algorithmus zur Bestimmung des ggT:\n",
    "\n",
    "1. Bestimmen Sie die Primfaktorzerlegung für beide Zahlen.\n",
    "    1. Beginnen Sie mit der kleinsten Primzahl p = 2\n",
    "    1. Sei x die Zahl deren Primfaktorzerlegung durch geführt werden soll\n",
    "    1. Testen Sie ob x durch p ohne Rest teilbar ist\n",
    "      - Ja:\n",
    "          - Schreiben Sie sich auf, dass x einmal durch p teilbar ist (zum Beispiel in Form einer Tabelle wie unten angegeben)\n",
    "          - Setzen Sie x auf x / p\n",
    "      - Nein:\n",
    "          - Setzen Sie p auf die nächst größere Primzahl\n",
    "    1. Wiederholen Sie Schritt C bis x = 1\n",
    "\n",
    "2. Vergleichen Sie die beiden Spalten der Tabelle in denen die Primfaktoren stehen und schreiben Sie das Ergebnis der kleineren Zahl in die dritte Spalte Ergebnis.\n",
    "\n",
    "3. Multiplizieren Sie die Einträge der dritten Spalte. Das Ergebnis ist der ggT der beiden Zahlen Zahl1 und Zahl2.\n",
    "\n",
    "Testen Sie Ihr Ergebnis, indem Sie die beiden Zahlen durch den ggT teilen. Sollte bei einer der beiden der Divisionen ein Rest bleiben, überprüfen Sie deren Primfaktorzerlegung. Sollte der ggT beide Zahlen teilen, aber es nicht der größte gemeinsame Teiler sein, überprüfen Sie ob bei Schritt 2 eine Zahl falsch übertragen wurde oder bei Schritt 3 bei der Multiplikation eine Zeile übersehen wurde.\n",
    "\n",
    "\n",
    "| Primzahlen | Zahl1 | Zahl2 | Ergebnis |\n",
    "| --- | --- | --- | --- |\n",
    "| 2 | ... | ... |  ... |\n",
    "| 3 | ... | ... | ... |\n",
    "| 5 | ... | ... | ... |\n",
    "| ... | ... | ... | ... |"
   ]
  },
  {
   "cell_type": "markdown",
   "metadata": {},
   "source": [
    "## Beispiel:"
   ]
  },
  {
   "cell_type": "markdown",
   "metadata": {},
   "source": [
    "Primfaktorzerlegung von 20:\n",
    "\n",
    "A. p = 2<br>\n",
    "B. x = 20<br>\n",
    "C. x (20) ist durch p (2) ohne Rest teilbar<br>\n",
    "  --> Ja: x = 20 / 2 = 10<br>\n",
    "D. x ist nicht 1, also Schritt C wiederholen<br>\n",
    "\n",
    "C. x (10) ist durch p (2) ohne Rest teilbar<br>\n",
    "  --> Ja: x = 10 / 2 = 5<br>\n",
    "D. x ist nicht 1, also Schritt C wiederholen<br>\n",
    "\n",
    "C. x (5) ist nicht durch p (2) ohne Rest teilbar<br>\n",
    "  --> Nein: p = 3<br>\n",
    "D. x ist nicht 1, also Schritt C wiederholen<br>\n",
    "\n",
    "C. x (5) ist nicht durch p (3) ohne Rest teilbar<br>\n",
    "  --> Nein: p = 5<br>\n",
    "D. x ist nicht 1, also Schritt C wiederholen<br>\n",
    "\n",
    "C. x (5) ist durch p (5) ohne Rest teilbar<br>\n",
    "  --> Ja: x = 5 /5 = 1<br>\n",
    "D. x ist 1, somit ist die Primfaktorzerlegung abgeschlossen\n",
    "\n",
    "Die daraus resultierende Tabelle sähe so aus:\n",
    "\n",
    "| Primzahlen | 20 |\n",
    "| --- | --- |\n",
    "| 2 | 2 |\n",
    "| 3 | 0 |\n",
    "| 5 | 1 |"
   ]
  },
  {
   "cell_type": "markdown",
   "metadata": {},
   "source": [
    "## Aufgabenstellung"
   ]
  },
  {
   "cell_type": "markdown",
   "metadata": {},
   "source": [
    "Führen Sie den Algorithmus zur Bestimmung des ggT von 315 und 126 Schritt für Schritt aus.\n"
   ]
  },
  {
   "cell_type": "markdown",
   "metadata": {},
   "source": [
    "## Lösungshinweise\n",
    "\n",
    "Sie können Ihre Ergebnisse nach Schritt 1 kontrollieren indem Sie die Zahlen wieder miteinander multiplizieren. Die Zahlen der Spalte sollten entsprechend wieder ihre Ursprungszahl ergeben.\n",
    "\n",
    "| Primzahlen | 20 |\n",
    "| --- | --- |\n",
    "| 2 | 2 |\n",
    "| 3 | 0 |\n",
    "| 5 | 1 |\n",
    "\n",
    "Kontrolle: $2^2 \\cdot 3^0 \\cdot 5^1 = 20$"
   ]
  },
  {
   "cell_type": "markdown",
   "metadata": {},
   "source": [
    "## Lösung"
   ]
  },
  {
   "cell_type": "markdown",
   "metadata": {},
   "source": [
    "Nach der Primfaktorzerlegung sieht die Tabelle folgendermaßen aus:\n",
    "\n",
    "| Primzahlen | 315 | 126 |\n",
    "| --- | --- | --- |\n",
    "| 2 | 0 | 1 |\n",
    "| 3 | 2 | 2 |\n",
    "| 5 | 1 | 0 |\n",
    "| 7 | 1 | 1 |\n",
    "\n",
    "$315 = 2^0 \\cdot 3^2 \\cdot 5^1 \\cdot 7^1$ oder alternativ $315 = 3^2 \\cdot 5^1 \\cdot 7^1$\n",
    "\n",
    "$126 = 2^1 \\cdot 3^2 \\cdot 5^0 \\cdot 7^1$ oder alternativ $126 = 2^1 \\cdot 3^2 \\cdot 7^1$\n",
    "\n",
    "Die aus Schritt 2 resultierende Tabelle sähe so aus.\n",
    "\n",
    "| Primzahlen | 315 | 126 | Ergebnis |\n",
    "| --- | --- | --- | --- |\n",
    "| 2 | 0 | 1 | 0 |\n",
    "| 3 | 2 | 2 | 2 |\n",
    "| 5 | 1 | 0 | 0 |\n",
    "| 7 | 1 | 1 | 1 |\n",
    "\n",
    "Entsprechend ergibt sich als ggT von 315 und 126: $2^0 \\cdot 3^2 \\cdot 5^0 \\cdot 7^1 = 3^2 \\cdot 7 = 63$"
   ]
  }
 ],
 "metadata": {
  "kernelspec": {
   "display_name": "Python 3",
   "language": "python",
   "name": "python3"
  },
  "language_info": {
   "codemirror_mode": {
    "name": "ipython",
    "version": 3
   },
   "file_extension": ".py",
   "mimetype": "text/x-python",
   "name": "python",
   "nbconvert_exporter": "python",
   "pygments_lexer": "ipython3",
   "version": "3.7.5"
  }
 },
 "nbformat": 4,
 "nbformat_minor": 4
}
